{
 "cells": [
  {
   "cell_type": "markdown",
   "id": "e2985319-bdba-47a3-9cfa-273fba02ebd6",
   "metadata": {},
   "source": [
    "In order to simulate real-time Big Data environment ,a cluster with master node and at least a two or three worker nodes is essential.\n",
    "This kind of environment can be created with the help of virtualization tools like Virtual Box or VMware. I ,personally, chose Virtual Box to simulate a cluster.\n",
    "\n"
   ]
  }
 ],
 "metadata": {
  "kernelspec": {
   "display_name": "Python 3 (ipykernel)",
   "language": "python",
   "name": "python3"
  },
  "language_info": {
   "codemirror_mode": {
    "name": "ipython",
    "version": 3
   },
   "file_extension": ".py",
   "mimetype": "text/x-python",
   "name": "python",
   "nbconvert_exporter": "python",
   "pygments_lexer": "ipython3",
   "version": "3.10.12"
  }
 },
 "nbformat": 4,
 "nbformat_minor": 5
}
